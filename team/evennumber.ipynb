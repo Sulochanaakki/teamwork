{
 "cells": [
  {
   "cell_type": "code",
   "execution_count": 1,
   "id": "55b2a0ba",
   "metadata": {
    "ExecuteTime": {
     "end_time": "2021-09-21T06:00:24.539418Z",
     "start_time": "2021-09-21T06:00:20.446097Z"
    }
   },
   "outputs": [
    {
     "name": "stdout",
     "output_type": "stream",
     "text": [
      "please enter a number40\n",
      "[0, 2, 4, 6, 8, 10, 12, 14, 16, 18, 20, 22, 24, 26, 28, 30, 32, 34, 36, 38]\n"
     ]
    }
   ],
   "source": [
    "#Even numbers\n",
    "def even(n):\n",
    "    result = [i for i in range(n) if i%2 ==0]\n",
    "    return result\n",
    "data = int(input(\"please enter a number\"))\n",
    "print(even(data))"
   ]
  },
  {
   "cell_type": "code",
   "execution_count": 3,
   "id": "5873d512",
   "metadata": {
    "ExecuteTime": {
     "end_time": "2021-09-21T06:06:09.396850Z",
     "start_time": "2021-09-21T06:06:05.551257Z"
    }
   },
   "outputs": [
    {
     "name": "stdout",
     "output_type": "stream",
     "text": [
      "enter the number: 34\n",
      "34 is not prime\n"
     ]
    }
   ],
   "source": [
    "#prime numbers\n",
    "def prime(n):\n",
    "    flag = False\n",
    "    #prime numbers are greater than 1\n",
    "    if n>1:\n",
    "        for i in range(2,n):\n",
    "            #check for factors\n",
    "            if (num % i) ==0:\n",
    "                #if factor is found,set flag to True\n",
    "                flag = True\n",
    "                #brack out loop\n",
    "                break\n",
    "                \n",
    "    #check if flag is True \n",
    "    if flag:\n",
    "        print(num,\"is not prime\")\n",
    "    else:\n",
    "        print(num,\"is prime\")\n",
    "        \n",
    "num = int(input(\"enter the number: \"))   \n",
    "prime(num)"
   ]
  },
  {
   "cell_type": "code",
   "execution_count": null,
   "id": "874732c0",
   "metadata": {},
   "outputs": [],
   "source": []
  }
 ],
 "metadata": {
  "kernelspec": {
   "display_name": "Python 3 (ipykernel)",
   "language": "python",
   "name": "python3"
  },
  "language_info": {
   "codemirror_mode": {
    "name": "ipython",
    "version": 3
   },
   "file_extension": ".py",
   "mimetype": "text/x-python",
   "name": "python",
   "nbconvert_exporter": "python",
   "pygments_lexer": "ipython3",
   "version": "3.9.6"
  }
 },
 "nbformat": 4,
 "nbformat_minor": 5
}
